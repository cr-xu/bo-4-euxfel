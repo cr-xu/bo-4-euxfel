{
 "cells": [
  {
   "cell_type": "code",
   "execution_count": 18,
   "metadata": {},
   "outputs": [],
   "source": [
    "from analyse_helper import load_ocelot_data\n",
    "import numpy as np\n",
    "import matplotlib.pyplot as plt\n",
    "import json\n",
    "import glob\n",
    "import torch\n",
    "from botorch.fit import fit_gpytorch_model\n",
    "from botorch.models import SingleTaskGP\n",
    "from botorch.models.transforms import Normalize, Standardize\n",
    "from gpytorch.mlls import ExactMarginalLogLikelihood\n",
    "\n",
    "BASE_DIR = \"../2022-11-24-data/\""
   ]
  },
  {
   "cell_type": "code",
   "execution_count": 118,
   "metadata": {},
   "outputs": [],
   "source": [
    "# IPAC PLOT SIZES\n",
    "TEXTWIDTH = 483.69684\n",
    "LINEWIDTH = 214.7352\n",
    "#pt_to_inches = 1/72.27\n",
    "fig_width_pt = TEXTWIDTH\n",
    "inches_per_pt = 1.0/72.27               # Convert pt to inch\n",
    "golden_mean = (np.sqrt(5)-1.0)/2.0         # Aesthetic ratio\n",
    "fig_width = fig_width_pt*inches_per_pt  # width in inches\n",
    "fig_height = fig_width*golden_mean      # height in inches\n",
    "fig_size =  [fig_width,fig_height]\n",
    "\n",
    " \n",
    "plt.rc('font', family='serif', serif='Times')\n",
    "plt.rc('text', usetex=True)\n",
    "#plt.rc('xtick', labelsize=8)\n",
    "#plt.rc('ytick', labelsize=8)\n",
    "#plt.rc('axes', labelsize=8)\n",
    "\n",
    "params = {'axes.titlesize': 8,\n",
    "          'axes.labelsize': 8,\n",
    "          'legend.fontsize': 8,\n",
    "          'xtick.labelsize': 6,\n",
    "          'ytick.labelsize': 6,\n",
    "          'figure.figsize': fig_size}\n",
    "plt.rcParams.update(params)"
   ]
  },
  {
   "attachments": {},
   "cell_type": "markdown",
   "metadata": {},
   "source": [
    "## Look into the 4d optimization data"
   ]
  },
  {
   "cell_type": "code",
   "execution_count": 4,
   "metadata": {},
   "outputs": [],
   "source": [
    "with open(BASE_DIR+\"/bo/benchmark_ucb_2022_11_24-09_11_00.json\", \"r\") as f:\n",
    "    data = json.load(f)"
   ]
  },
  {
   "cell_type": "code",
   "execution_count": 24,
   "metadata": {},
   "outputs": [
    {
     "name": "stdout",
     "output_type": "stream",
     "text": [
      "(56, 4) (56,)\n",
      "Min [ 2.13730189e-05 -1.43588687e-02 -6.78212494e-02 -2.55248964e-01]\n",
      "Max [0.11032136 0.06095994 0.16175783 0.09440861]\n",
      "[0.00237895 0.05838207 0.15619454 0.01294369]\n",
      "Mean [0.02025177 0.04396096 0.11443921 0.00303102]\n"
     ]
    }
   ],
   "source": [
    "X = np.array(data[\"X\"])\n",
    "Y = np.array(data[\"Y\"])\n",
    "print(X.shape, Y.shape)\n",
    "print(\"Min\", np.min(X,axis=0))\n",
    "print(\"Max\", np.max(X,axis=0))\n",
    "print(X[np.argmax(Y)])\n",
    "print(\"Mean\", np.mean(X, axis=0))"
   ]
  },
  {
   "cell_type": "code",
   "execution_count": 19,
   "metadata": {},
   "outputs": [
    {
     "data": {
      "text/plain": [
       "ExactMarginalLogLikelihood(\n",
       "  (likelihood): GaussianLikelihood(\n",
       "    (noise_covar): HomoskedasticNoise(\n",
       "      (noise_prior): GammaPrior()\n",
       "      (raw_noise_constraint): GreaterThan(1.000E-04)\n",
       "    )\n",
       "  )\n",
       "  (model): SingleTaskGP(\n",
       "    (likelihood): GaussianLikelihood(\n",
       "      (noise_covar): HomoskedasticNoise(\n",
       "        (noise_prior): GammaPrior()\n",
       "        (raw_noise_constraint): GreaterThan(1.000E-04)\n",
       "      )\n",
       "    )\n",
       "    (mean_module): ConstantMean()\n",
       "    (covar_module): ScaleKernel(\n",
       "      (base_kernel): MaternKernel(\n",
       "        (lengthscale_prior): GammaPrior()\n",
       "        (raw_lengthscale_constraint): Positive()\n",
       "        (distance_module): Distance()\n",
       "      )\n",
       "      (outputscale_prior): GammaPrior()\n",
       "      (raw_outputscale_constraint): Positive()\n",
       "    )\n",
       "    (outcome_transform): Standardize()\n",
       "    (input_transform): Normalize()\n",
       "  )\n",
       ")"
      ]
     },
     "execution_count": 19,
     "metadata": {},
     "output_type": "execute_result"
    }
   ],
   "source": [
    "gp = SingleTaskGP(\n",
    "                train_X=torch.tensor(X),\n",
    "                train_Y=torch.tensor(Y).reshape(-1,1),\n",
    "                outcome_transform=Standardize(1),\n",
    "                input_transform=Normalize(X.shape[1]),\n",
    "            )\n",
    "mll = ExactMarginalLogLikelihood(gp.likelihood, gp)\n",
    "fit_gpytorch_model(mll)"
   ]
  },
  {
   "cell_type": "code",
   "execution_count": 116,
   "metadata": {},
   "outputs": [
    {
     "data": {
      "text/plain": [
       "Parameter containing:\n",
       "tensor(-1.3478, dtype=torch.float64, requires_grad=True)"
      ]
     },
     "execution_count": 116,
     "metadata": {},
     "output_type": "execute_result"
    }
   ],
   "source": [
    "gp.mean_module.constant"
   ]
  },
  {
   "cell_type": "code",
   "execution_count": 94,
   "metadata": {},
   "outputs": [],
   "source": [
    "xmin, xmax = -0.25, 0.25\n",
    "n_points = 50\n",
    "ndim = 4\n",
    "mean_values = np.mean(X, axis=0)\n",
    "xlist = np.linspace(xmin, xmax, n_points)\n",
    "ylist = np.linspace(xmin, xmax, n_points)\n",
    "XX, YY = np.meshgrid(xlist,ylist)\n",
    "\n",
    "inputs = torch.zeros(n_points**2, ndim)\n",
    "inputs[:] = torch.tensor(mean_values)\n",
    "zvalues = np.zeros((4,4,n_points,n_points))\n",
    "for i in range(4):\n",
    "    for j in range(4):\n",
    "        input_copy = torch.clone(inputs.detach())\n",
    "        input_copy[:,i] = torch.tensor(XX.flatten())\n",
    "        input_copy[:,j] = torch.tensor(YY.flatten())\n",
    "        prediction = gp.posterior(input_copy)\n",
    "        ZZ = prediction.mean.detach().numpy().reshape(n_points,n_points)\n",
    "        zvalues[i,j] = ZZ\n",
    "# inputs[:,1] = torch.tensor(XX.flatten())\n",
    "# inputs[:,3] = torch.tensor(YY.flatten())\n",
    "# inputs[:,0] = mean_values[0]\n",
    "# inputs[:,1] = mean_values[1]\n",
    "# inputs[:,2] = mean_values[2]\n",
    "# inputs[:,3] = mean_values[3]\n",
    "\n",
    "# prediction = gp.posterior(inputs)\n",
    "# ZZ = prediction.mean.detach().numpy().reshape(n_points,n_points)"
   ]
  },
  {
   "cell_type": "code",
   "execution_count": null,
   "metadata": {},
   "outputs": [],
   "source": [
    "plt.hist()"
   ]
  },
  {
   "cell_type": "code",
   "execution_count": 192,
   "metadata": {},
   "outputs": [
    {
     "data": {
      "text/plain": [
       "<BarContainer object of 10 artists>"
      ]
     },
     "execution_count": 192,
     "metadata": {},
     "output_type": "execute_result"
    },
    {
     "data": {
      "image/png": "[encoded data removed]",
      "text/plain": [
       "<Figure size 669.291x413.645 with 1 Axes>"
      ]
     },
     "metadata": {},
     "output_type": "display_data"
    }
   ],
   "source": [
    "# plt.imshow(ZZ)\n",
    "# i, j = 0, 1\n",
    "# plt.pcolormesh(XX,YY, zvalues[2,3], shading=\"gouraud\")\n",
    "# plt.colorbar()\n",
    "n_bins = 10\n",
    "histinputs = torch.zeros(n_bins, ndim)\n",
    "histinputs[:,] = torch.tensor(mean_values)\n",
    "x_histlist = torch.linspace(xmin, xmax, n_bins)\n",
    "dx = (xmax-xmin)/ n_bins\n",
    "my_cmap = plt.get_cmap(\"coolwarm\")\n",
    "vmax = np.max(zvalues)\n",
    "vmin = 0\n",
    "rescale_color = lambda y: (y - vmin) / (vmax - vmin)\n",
    "y_hist_values = np.zeros((4,n_bins))\n",
    "for i in range(4):\n",
    "    input_copy = histinputs.clone().detach()\n",
    "    input_copy[:,i] = x_histlist\n",
    "    y_hist_values[i] = gp.posterior(input_copy).mean.detach().numpy().flatten()\n",
    "\n",
    "plt.bar(x_histlist, y_hist_values[0], color=my_cmap(rescale_color(y_hist_values[0])), width = dx,)"
   ]
  },
  {
   "cell_type": "code",
   "execution_count": 193,
   "metadata": {},
   "outputs": [
    {
     "data": {
      "text/plain": [
       "array([ 285.48976476,  285.75543233,  297.32804268,  646.44963569,\n",
       "       1050.07485513,  226.72641682,  276.4716366 ,  284.96327134])"
      ]
     },
     "execution_count": 193,
     "metadata": {},
     "output_type": "execute_result"
    }
   ],
   "source": [
    "y_histvalues"
   ]
  },
  {
   "cell_type": "code",
   "execution_count": 215,
   "metadata": {},
   "outputs": [
    {
     "data": {
      "image/png": "[encoded data removed]",
      "text/plain": [
       "<Figure size 297.129x297.129 with 12 Axes>"
      ]
     },
     "metadata": {},
     "output_type": "display_data"
    }
   ],
   "source": [
    "fig = plt.figure(figsize=(LINEWIDTH*inches_per_pt, LINEWIDTH*inches_per_pt*1))\n",
    "gs = fig.add_gridspec(4,4)\n",
    "\n",
    "ax03 = fig.add_subplot(gs[1,0])\n",
    "ax02 = fig.add_subplot(gs[2,0])\n",
    "ax01 = fig.add_subplot(gs[3,0])\n",
    "ax13 = fig.add_subplot(gs[2,1])\n",
    "ax12 = fig.add_subplot(gs[3,1])\n",
    "ax23 = fig.add_subplot(gs[3,2])\n",
    "ax_hist1 = fig.add_subplot(gs[0,0])\n",
    "ax_hist2 = fig.add_subplot(gs[1,1])\n",
    "ax_hist3 = fig.add_subplot(gs[2,2])\n",
    "ax_hist4 = fig.add_subplot(gs[3,3])\n",
    "ax_colorbar = fig.add_subplot(gs[:3,3])\n",
    "for ax in [ax_hist2, ax_hist3, ax_hist4, ax02, ax03, ax13]:\n",
    "    ax.get_xaxis().set_visible(False)\n",
    "for ax in [ax_hist1, ax_hist2, ax_hist3, ax12, ax13, ax23]:\n",
    "    ax.get_yaxis().set_visible(False)\n",
    "for ax in [ax01, ax12, ax23]:\n",
    "    ax.set_xticks([])\n",
    "for ax in [ax01,ax02,ax03]:\n",
    "    ax.set_yticks([])\n",
    "\n",
    "# Posterior mean plots\n",
    "vmax = np.max(zvalues)\n",
    "vmin = 0\n",
    "cmap = \"coolwarm\"\n",
    "im = ax03.pcolormesh(XX, YY, zvalues[0,1], shading=\"gouraud\", vmax=vmax, vmin=vmin, cmap=cmap)\n",
    "ax02.pcolormesh(XX, YY, zvalues[0,2], shading=\"gouraud\", vmax=vmax, vmin=vmin, cmap=cmap)\n",
    "ax01.pcolormesh(XX, YY, zvalues[0,3], shading=\"gouraud\", vmax=vmax, vmin=vmin, cmap=cmap)\n",
    "ax13.pcolormesh(XX, YY, zvalues[1,2], shading=\"gouraud\", vmax=vmax, vmin=vmin, cmap=cmap)\n",
    "ax12.pcolormesh(XX, YY, zvalues[1,3], shading=\"gouraud\", vmax=vmax, vmin=vmin, cmap=cmap)\n",
    "ax23.pcolormesh(XX, YY, zvalues[2,3], shading=\"gouraud\", vmax=vmax, vmin=vmin, cmap=cmap)\n",
    "\n",
    "# histogram\n",
    "ax_hist1.bar(x_histlist, y_hist_values[0], color=my_cmap(rescale_color(y_hist_values[0])), width = dx)\n",
    "# ax_hist1.plot(x_histlist,y_hist_values[0])\n",
    "ax_hist2.bar(x_histlist, y_hist_values[1], color=my_cmap(rescale_color(y_hist_values[1])), width = dx)\n",
    "ax_hist3.barh(x_histlist, y_hist_values[2], color=my_cmap(rescale_color(y_hist_values[2])), height = dx)\n",
    "ax_hist4.barh(x_histlist, y_hist_values[3], color=my_cmap(rescale_color(y_hist_values[3])), height = dx)\n",
    "\n",
    "ax_hist1.set_xlim(xmin, xmax)\n",
    "ax_hist2.set_xlim(xmin, xmax)\n",
    "ax_hist3.set_ylim(xmin, xmax)\n",
    "ax_hist4.set_ylim(xmin, xmax)\n",
    "# colorbar\n",
    "cbar = fig.colorbar(im, ax=ax_colorbar, fraction=0.4, shrink=0.8)\n",
    "cbar.set_label(r\"Pulse energy [$\\mathrm{\\mu}$J]\")\n",
    "ax_colorbar.set_axis_off()\n",
    "# axis labels\n",
    "ax_hist1.xaxis.tick_top()\n",
    "ax_hist1.set_xticks([xmin,xmax])\n",
    "ax_hist1.set_xticklabels([\"min\",\"max\"], fontsize=8)\n",
    "ax_hist4.yaxis.tick_right()\n",
    "ax_hist4.set_yticks([xmin,xmax])\n",
    "ax_hist4.set_yticklabels([\"min\",\"max\"], fontsize=8)\n",
    "ax01.set_xlabel(\"C3.X\", fontsize=8)\n",
    "ax12.set_xlabel(\"C3.Y\", fontsize=8)\n",
    "ax23.set_xlabel(\"C7.X\", fontsize=8)\n",
    "\n",
    "ax01.set_ylabel(\"C8.Y\", fontsize=8)\n",
    "ax02.set_ylabel(\"C7.X\", fontsize=8)\n",
    "ax03.set_ylabel(\"C3.Y\", fontsize=8)\n",
    "fig.subplots_adjust(hspace=0, wspace=0)\n",
    "# fig.savefig(\"../plots/posterior_space.pdf\", dpi=300, bbox_inches=\"tight\")"
   ]
  },
  {
   "cell_type": "code",
   "execution_count": null,
   "metadata": {},
   "outputs": [],
   "source": []
  }
 ],
 "metadata": {
  "kernelspec": {
   "display_name": "rl39",
   "language": "python",
   "name": "python3"
  },
  "language_info": {
   "codemirror_mode": {
    "name": "ipython",
    "version": 3
   },
   "file_extension": ".py",
   "mimetype": "text/x-python",
   "name": "python",
   "nbconvert_exporter": "python",
   "pygments_lexer": "ipython3",
   "version": "3.9.13"
  },
  "orig_nbformat": 4
 },
 "nbformat": 4,
 "nbformat_minor": 2
}
