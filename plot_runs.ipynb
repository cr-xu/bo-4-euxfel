{
 "cells": [
  {
   "cell_type": "code",
   "execution_count": 107,
   "metadata": {},
   "outputs": [],
   "source": [
    "import json\n",
    "import os\n",
    "from matplotlib import rcParams\n",
    "from matplotlib import pyplot as plt\n",
    "import matplotlib.backends.backend_pdf\n",
    "import numpy as np"
   ]
  },
  {
   "cell_type": "code",
   "execution_count": 108,
   "metadata": {},
   "outputs": [],
   "source": [
    "data_dir = '/Users/ansantam/Dropbox/KIT/xfel/log'\n",
    "# data_dir = '/home/ws/zx5016/Dropbox/KIT/xfel/ocelot_data_2'\n",
    "plot_dir = '/Users/ansantam/Dropbox/KIT/xfel/'\n"
   ]
  },
  {
   "cell_type": "code",
   "execution_count": 109,
   "metadata": {},
   "outputs": [],
   "source": [
    "def get_plot(data_dict, title):\n",
    "    fig, ax = plt.subplots(figsize=(15, 8))\n",
    "\n",
    "    actuators = np.arange(np.shape(data_dict['X'])[1])\n",
    "    x = np.array(data_dict['X'])\n",
    "    for a in actuators:\n",
    "        ax.plot(x[:,a], label=data_dict['metadata']['input'][a])\n",
    "        \n",
    "    ax2 = ax.twinx() \n",
    "    ax2.plot(data_dict['Y'], color='black', linewidth=3 )\n",
    "    ax2.set_ylabel(data_dict['metadata']['objective'])\n",
    "\n",
    "    ax.set_xlabel('Steps')\n",
    "    ax.grid(True)\n",
    "    ax.legend(framealpha=1)\n",
    "    plt.title(title)\n",
    "\n",
    "    return fig\n"
   ]
  },
  {
   "cell_type": "code",
   "execution_count": 110,
   "metadata": {},
   "outputs": [
    {
     "name": "stdout",
     "output_type": "stream",
     "text": [
      "dict_keys(['metadata', 'X', 'Y', 'Y_std', 'Initial', 'initial'])\n",
      "{'input': ['XFEL.FEL/UNDULATOR.SASE1/CAX.CELL3.SA1/FIELD.OFFSET', 'XFEL.FEL/UNDULATOR.SASE1/CAY.CELL3.SA1/FIELD.OFFSET'], 'objective': 'XFEL.FEL/XGM/XGM.2643.T9/INTENSITY.SA1.RAW.TRAIN', 'nreadings': 30, 'interval': 0.1, 'max_iter': 50, 'bounds': [[-0.5, -0.5], [0.5, 0.5]], 'acquisition': 'EI', 'step_limit_type': 'proximal', 'proximal_len': [0.003000000026077032, 0.003000000026077032], 'step_size': 0.10000000149011612, 'fixed_noise': False}\n"
     ]
    }
   ],
   "source": [
    "# Plot single file\n",
    "f = '2d_stepsize_2022_11_24-08_17_01.json'\n",
    "data_file = open(os.path.join(data_dir, f))\n",
    "data = json.load(data_file)\n",
    "print(data.keys())\n",
    "print(data['metadata'])\n",
    "\n",
    "# timestamp = '2022 ' + f.strip('.json').split('_2022_')[1]\n",
    "# if data['metadata']['step_limit_type'] == 'hard':\n",
    "#     title = timestamp + ' / ' + data['metadata']['acquisition'] + ' ' + str(data['metadata']['step_limit_type']) + ' {:.2E}'.format(data['metadata']['step_size'])\n",
    "# elif data['metadata']['step_limit_type'] == 'proximal':\n",
    "#     title = timestamp + ' / ' + data['metadata']['acquisition'] + ' ' + str(data['metadata']['step_limit_type']) + ' {:.2E}'.format(data['metadata']['proximal_len'][0])\n",
    "\n",
    "# get_plot(data, title)\n"
   ]
  },
  {
   "cell_type": "code",
   "execution_count": 111,
   "metadata": {},
   "outputs": [
    {
     "data": {
      "text/plain": [
       "<Figure size 1500x800 with 0 Axes>"
      ]
     },
     "metadata": {},
     "output_type": "display_data"
    },
    {
     "data": {
      "text/plain": [
       "<Figure size 1500x800 with 0 Axes>"
      ]
     },
     "metadata": {},
     "output_type": "display_data"
    },
    {
     "data": {
      "text/plain": [
       "<Figure size 1500x800 with 0 Axes>"
      ]
     },
     "metadata": {},
     "output_type": "display_data"
    },
    {
     "data": {
      "text/plain": [
       "<Figure size 1500x800 with 0 Axes>"
      ]
     },
     "metadata": {},
     "output_type": "display_data"
    },
    {
     "data": {
      "text/plain": [
       "<Figure size 1500x800 with 0 Axes>"
      ]
     },
     "metadata": {},
     "output_type": "display_data"
    },
    {
     "data": {
      "text/plain": [
       "<Figure size 1500x800 with 0 Axes>"
      ]
     },
     "metadata": {},
     "output_type": "display_data"
    },
    {
     "data": {
      "text/plain": [
       "<Figure size 1500x800 with 0 Axes>"
      ]
     },
     "metadata": {},
     "output_type": "display_data"
    },
    {
     "data": {
      "text/plain": [
       "<Figure size 1500x800 with 0 Axes>"
      ]
     },
     "metadata": {},
     "output_type": "display_data"
    },
    {
     "data": {
      "text/plain": [
       "<Figure size 1500x800 with 0 Axes>"
      ]
     },
     "metadata": {},
     "output_type": "display_data"
    },
    {
     "data": {
      "text/plain": [
       "<Figure size 1500x800 with 0 Axes>"
      ]
     },
     "metadata": {},
     "output_type": "display_data"
    },
    {
     "data": {
      "text/plain": [
       "<Figure size 1500x800 with 0 Axes>"
      ]
     },
     "metadata": {},
     "output_type": "display_data"
    },
    {
     "data": {
      "text/plain": [
       "<Figure size 1500x800 with 0 Axes>"
      ]
     },
     "metadata": {},
     "output_type": "display_data"
    },
    {
     "data": {
      "text/plain": [
       "<Figure size 1500x800 with 0 Axes>"
      ]
     },
     "metadata": {},
     "output_type": "display_data"
    },
    {
     "data": {
      "text/plain": [
       "<Figure size 1500x800 with 0 Axes>"
      ]
     },
     "metadata": {},
     "output_type": "display_data"
    },
    {
     "data": {
      "text/plain": [
       "<Figure size 1500x800 with 0 Axes>"
      ]
     },
     "metadata": {},
     "output_type": "display_data"
    },
    {
     "data": {
      "text/plain": [
       "<Figure size 1500x800 with 0 Axes>"
      ]
     },
     "metadata": {},
     "output_type": "display_data"
    },
    {
     "data": {
      "text/plain": [
       "<Figure size 1500x800 with 0 Axes>"
      ]
     },
     "metadata": {},
     "output_type": "display_data"
    },
    {
     "data": {
      "text/plain": [
       "<Figure size 1500x800 with 0 Axes>"
      ]
     },
     "metadata": {},
     "output_type": "display_data"
    },
    {
     "data": {
      "text/plain": [
       "<Figure size 1500x800 with 0 Axes>"
      ]
     },
     "metadata": {},
     "output_type": "display_data"
    }
   ],
   "source": [
    "pdf = matplotlib.backends.backend_pdf.PdfPages(os.path.join(plot_dir, '2022-11-24-xfel-beamtime.pdf'))\n",
    "for subdir, dirs, files in os.walk(data_dir):\n",
    "    for f in sorted(files):\n",
    "        if f.endswith('.json'):\n",
    "            data_file = open(os.path.join(data_dir, f))\n",
    "            data = json.load(data_file)\n",
    "            timestamp = '2022 ' + f.strip('.json').split('_2022_')[1]\n",
    "            if data['metadata']['step_limit_type'] == 'hard':\n",
    "                title = timestamp + ' / ' + data['metadata']['acquisition'] + ' ' + str(data['metadata']['step_limit_type']) + ' {:.2E}'.format(data['metadata']['step_size'])\n",
    "            elif data['metadata']['step_limit_type'] == 'proximal':\n",
    "                title = timestamp + ' / ' + data['metadata']['acquisition'] + ' ' + str(data['metadata']['step_limit_type']) + ' {:.2E}'.format(data['metadata']['proximal_len'][0])\n",
    "            fig = get_plot(data, title)\n",
    "            pdf.savefig(fig, bbox_inches='tight')\n",
    "            plt.clf()\n",
    "pdf.close()\n"
   ]
  },
  {
   "cell_type": "code",
   "execution_count": null,
   "metadata": {},
   "outputs": [],
   "source": []
  }
 ],
 "metadata": {
  "kernelspec": {
   "display_name": "Python 3.9.13 ('analysis')",
   "language": "python",
   "name": "python3"
  },
  "language_info": {
   "codemirror_mode": {
    "name": "ipython",
    "version": 3
   },
   "file_extension": ".py",
   "mimetype": "text/x-python",
   "name": "python",
   "nbconvert_exporter": "python",
   "pygments_lexer": "ipython3",
   "version": "3.9.13"
  },
  "orig_nbformat": 4,
  "vscode": {
   "interpreter": {
    "hash": "2c2dd33e828e9ee0fd539b84cd61b81e76d396cec3578283508cba5524603800"
   }
  }
 },
 "nbformat": 4,
 "nbformat_minor": 2
}
