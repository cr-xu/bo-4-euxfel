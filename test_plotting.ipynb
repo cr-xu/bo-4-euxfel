{
 "cells": [
  {
   "cell_type": "code",
   "execution_count": null,
   "metadata": {},
   "outputs": [],
   "source": [
    "from IPython import display\n",
    "from simplebo import SimpleBO\n",
    "import numpy as np\n",
    "import matplotlib.pyplot as plt\n",
    "# %matplotlib inline\n",
    "\n",
    "from functools import partial\n",
    "import json\n",
    "import matplotlib.pyplot as plt\n",
    "import numpy as np\n",
    "from utils import plot_progress"
   ]
  },
  {
   "cell_type": "code",
   "execution_count": null,
   "metadata": {},
   "outputs": [],
   "source": [
    "with open(\"conf/test_rosenbrock.json\", \"r\") as f:\n",
    "    config_dict = json.load(f)\n",
    "bo = SimpleBO(\n",
    "    config_dict, readonly=False, acquisition=\"UCB\", n_init=10, \n",
    "    step_limit_type=\"proximal\", proximal_len=0.5,\n",
    "    )  # check proximal biasing"
   ]
  },
  {
   "cell_type": "code",
   "execution_count": null,
   "metadata": {},
   "outputs": [],
   "source": [
    "fig, axes = plt.subplots(2,1, figsize=(4,6), height_ratios=(2,1))\n",
    "\n",
    "bo.optimize(save_log=False, callback=partial(plot_progress, bo, fig, axes))"
   ]
  },
  {
   "cell_type": "code",
   "execution_count": null,
   "metadata": {},
   "outputs": [],
   "source": []
  }
 ],
 "metadata": {
  "kernelspec": {
   "display_name": "Python 3 (ipykernel)",
   "language": "python",
   "name": "python3"
  },
  "language_info": {
   "codemirror_mode": {
    "name": "ipython",
    "version": 3
   },
   "file_extension": ".py",
   "mimetype": "text/x-python",
   "name": "python",
   "nbconvert_exporter": "python",
   "pygments_lexer": "ipython3",
   "version": "3.9.13"
  },
  "vscode": {
   "interpreter": {
    "hash": "58689cc92d6ce00a127786fca05cd73534b5d2fd577015d561e1a642ed089a17"
   }
  }
 },
 "nbformat": 4,
 "nbformat_minor": 2
}
