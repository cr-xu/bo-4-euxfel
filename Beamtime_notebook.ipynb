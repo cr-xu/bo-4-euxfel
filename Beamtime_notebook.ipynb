{
 "cells": [
  {
   "cell_type": "code",
   "execution_count": null,
   "metadata": {},
   "outputs": [],
   "source": [
    "import json\n",
    "from copy import deepcopy\n",
    "from datetime import datetime\n",
    "from functools import partial\n",
    "\n",
    "import matplotlib.pyplot as plt\n",
    "\n",
    "from simplebo import SimpleBO\n",
    "from utils import plot_progress"
   ]
  },
  {
   "cell_type": "markdown",
   "metadata": {},
   "source": [
    "## 0. Useful commands\n",
    "\n",
    "```python\n",
    "# get settings before optimization\n",
    "bo.initial_settings\n",
    "\n",
    "# set back to before optimization\n",
    "_set_new_parameters(bo.initial_settings, param_names=bo.input_params)\n",
    "\n",
    "\n",
    "# set back to best found settings\n",
    "bo.set_back_to_best()\n",
    "```\n",
    "\n",
    "\n",
    "## 1. SASE1 Tuning with Air Coils"
   ]
  },
  {
   "cell_type": "code",
   "execution_count": null,
   "metadata": {},
   "outputs": [],
   "source": [
    "# load config file\n",
    "with open(\"conf/SASE1_CAX_CAY.json\", \"r\") as f:\n",
    "    p_config_1 = json.load(f)"
   ]
  },
  {
   "cell_type": "markdown",
   "metadata": {},
   "source": [
    "\n",
    "## 1.1  4 Input Params, different settings\n",
    "\n",
    "### 1.1 (a) Different Acquisition Functions\n",
    "\n",
    "Use 4 air coils, test with different Acquisition Functions\n",
    "\n",
    "Save log to \n",
    "```python\n",
    "f\"log/4d_{datetime.now().strftime('%Y_%m_%d-%H_%M_%S')}.json\"\n",
    "```\n",
    "\n",
    "__Test with different air coils, e.g. 4 evenly distributed along the undulator__"
   ]
  },
  {
   "cell_type": "code",
   "execution_count": null,
   "metadata": {},
   "outputs": [],
   "source": [
    "config_1_4d = deepcopy(p_config_1)\n",
    "indices = [0,1,2,3]\n",
    "config_1_4d[\"id\"] = p_config_1[\"id\"][indices]\n",
    "config_1_4d[\"bounds\"] = p_config_1[\"bounds\"][indices]"
   ]
  },
  {
   "cell_type": "code",
   "execution_count": null,
   "metadata": {},
   "outputs": [],
   "source": [
    "\n",
    "# UCB Acquisition\n",
    "log_file = f\"log/4d_ucb_{datetime.now().strftime('%Y_%m_%d-%H_%M_%S')}.json\"\n",
    "\n",
    "bo = SimpleBO(\n",
    "    config_1_4d, acquisition=\"UCB\", proximal_len=0.1\n",
    ")\n"
   ]
  },
  {
   "cell_type": "code",
   "execution_count": null,
   "metadata": {},
   "outputs": [],
   "source": [
    "# fig, axes = plt.subplots(2,1, figsize=(4,6), height_ratios=(2,1))\n",
    "# bo.optimize(set_to_best=True, fname=log_file, callback=partial(plot_progress, bo, fig, axes))"
   ]
  },
  {
   "cell_type": "code",
   "execution_count": null,
   "metadata": {},
   "outputs": [],
   "source": [
    "# EI Acquisition\n",
    "log_file = f\"log/4d_ei_{datetime.now().strftime('%Y_%m_%d-%H_%M_%S')}.json\"\n",
    "\n",
    "bo_ei = SimpleBO(\n",
    "    config_1_4d, acquisition=\"UCB\", proximal_len=0.1\n",
    ")"
   ]
  },
  {
   "cell_type": "code",
   "execution_count": null,
   "metadata": {},
   "outputs": [],
   "source": [
    "# fig, axes = plt.subplots(2,1, figsize=(4,6), height_ratios=(2,1))\n",
    "# bo_ei.optimize(fname=log_file, callback=partial(plot_progress, bo_ei, fig, axes))"
   ]
  },
  {
   "cell_type": "markdown",
   "metadata": {},
   "source": [
    "### 1.1 (b) BO with differnt Step Sizes\n",
    "\n",
    "Test BO with proximal length `[0.01,0.05,0.1,0.2]`"
   ]
  },
  {
   "cell_type": "code",
   "execution_count": null,
   "metadata": {},
   "outputs": [],
   "source": [
    "log_file = f\"log/4d_stepsize_{datetime.now().strftime('%Y_%m_%d-%H_%M_%S')}.json\"\n",
    "\n",
    "bo = SimpleBO(\n",
    "    config_1_4d, acquisition=\"UCB\",\n",
    "    proximal_len=0.05\n",
    ")"
   ]
  },
  {
   "cell_type": "code",
   "execution_count": null,
   "metadata": {},
   "outputs": [],
   "source": [
    "# fig, axes = plt.subplots(2,1, figsize=(4,6), height_ratios=(2,1))\n",
    "# bo.optimize(set_to_best=True, fname=log_file, callback=partial(plot_progress, bo, fig, axes))"
   ]
  },
  {
   "cell_type": "markdown",
   "metadata": {},
   "source": [
    "### 1.1 (c) BO with auto fitting noise or use explicit noise"
   ]
  },
  {
   "cell_type": "code",
   "execution_count": null,
   "metadata": {},
   "outputs": [],
   "source": [
    "log_file = f\"log/4d_fixnoise_{datetime.now().strftime('%Y_%m_%d-%H_%M_%S')}.json\"\n",
    "\n",
    "bo = SimpleBO(\n",
    "    config_1_4d, acquisition=\"UCB\",\n",
    "    proximal_len=0.05,\n",
    "    fixed_noise=True,\n",
    ")"
   ]
  },
  {
   "cell_type": "code",
   "execution_count": null,
   "metadata": {},
   "outputs": [],
   "source": [
    "# fig, axes = plt.subplots(2,1, figsize=(4,6), height_ratios=(2,1))\n",
    "# bo.optimize(set_to_best=True, fname=log_file, callback=partial(plot_progress, bo, fig, axes))"
   ]
  },
  {
   "cell_type": "markdown",
   "metadata": {},
   "source": [
    "### 1.1.(d) Try to figure out the best condition for BO"
   ]
  },
  {
   "cell_type": "code",
   "execution_count": null,
   "metadata": {},
   "outputs": [],
   "source": [
    "# log_file = f\"log/bo_log_{datetime.now().strftime('%Y_%m_%d-%H_%M_%S')}.json\"\n",
    "\n",
    "# bo = SimpleBO(\n",
    "#     config_1_4d, acquisition=\"UCB\",\n",
    "#     proximal_len=0.01,\n",
    "#     fixed_noise=True,\n",
    "# )"
   ]
  },
  {
   "cell_type": "markdown",
   "metadata": {},
   "source": [
    "## 1.2 Increase Number of Input Parameters\n",
    "\n",
    "let's try [4, 6, 8, 10]?"
   ]
  },
  {
   "cell_type": "code",
   "execution_count": null,
   "metadata": {},
   "outputs": [],
   "source": []
  },
  {
   "cell_type": "markdown",
   "metadata": {},
   "source": [
    "## Task 2: SASE1 tuning with quadrupole"
   ]
  },
  {
   "cell_type": "code",
   "execution_count": null,
   "metadata": {},
   "outputs": [],
   "source": [
    "with open(\"conf/SASE1_matching_quads.json\", \"r\") as f:\n",
    "    p_config_2 = json.load(f)"
   ]
  },
  {
   "cell_type": "code",
   "execution_count": null,
   "metadata": {},
   "outputs": [],
   "source": [
    "# log_file = f\"log/quad_ucb_{datetime.now().strftime('%Y_%m_%d-%H_%M_%S')}.json\"\n",
    "\n",
    "# bo = SimpleBO(\n",
    "#     config_1_4d, acquisition=\"UCB\", proximal_len=0.1\n",
    "# )"
   ]
  },
  {
   "cell_type": "code",
   "execution_count": null,
   "metadata": {},
   "outputs": [],
   "source": []
  }
 ],
 "metadata": {
  "kernelspec": {
   "display_name": "Python 3.9.13 ('rl39')",
   "language": "python",
   "name": "python3"
  },
  "language_info": {
   "name": "python",
   "version": "3.9.13"
  },
  "orig_nbformat": 4,
  "vscode": {
   "interpreter": {
    "hash": "58689cc92d6ce00a127786fca05cd73534b5d2fd577015d561e1a642ed089a17"
   }
  }
 },
 "nbformat": 4,
 "nbformat_minor": 2
}
