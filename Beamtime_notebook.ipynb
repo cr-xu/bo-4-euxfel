{
 "cells": [
  {
   "cell_type": "code",
   "execution_count": null,
   "metadata": {},
   "outputs": [],
   "source": [
    "import json\n",
    "from copy import deepcopy\n",
    "from datetime import datetime\n",
    "from functools import partial\n",
    "\n",
    "import matplotlib.pyplot as plt\n",
    "\n",
    "from simplebo import SimpleBO\n",
    "from utils import plot_progress"
   ]
  },
  {
   "cell_type": "markdown",
   "metadata": {},
   "source": [
    "## 1. SASE1 Tuning with Air Coils"
   ]
  },
  {
   "cell_type": "code",
   "execution_count": null,
   "metadata": {},
   "outputs": [],
   "source": [
    "with open(\"conf/SASE1_CAX_CAY.json\", \"r\") as f:\n",
    "    p_config_1 = json.load()\n"
   ]
  },
  {
   "cell_type": "markdown",
   "metadata": {},
   "source": [
    "\n",
    "## 1.1 BO with Default Setting\n",
    "\n",
    "Use 4 air coils, test with different Acquisition Functions\n",
    "\n",
    "Save log to \n",
    "```python\n",
    "f\"log/4d_{datetime.now().strftime('%Y_%m_%d-%H_%M_%S')}.json\"\n",
    "```"
   ]
  },
  {
   "cell_type": "code",
   "execution_count": null,
   "metadata": {},
   "outputs": [],
   "source": [
    "config_1_4d = deepcopy(p_config_1)\n",
    "\n",
    "# UCB Acquisition\n",
    "log_file = f\"log/4d_ucb_{datetime.now().strftime('%Y_%m_%d-%H_%M_%S')}.json\"\n",
    "\n",
    "bo = SimpleBO(\n",
    "    config_1_4d, active_params=[0, 1, 2, 3], acquisition=\"UCB\", proximal_len=0.1\n",
    ")\n"
   ]
  },
  {
   "cell_type": "code",
   "execution_count": null,
   "metadata": {},
   "outputs": [],
   "source": [
    "# fig, axes = plt.subplots(2,1, figsize=(4,6), height_ratios=(2,1))\n",
    "# bo.optimize(set_to_best=True, fname=log_file, callback=partial(plot_progress, bo, fig, axes))"
   ]
  },
  {
   "cell_type": "code",
   "execution_count": null,
   "metadata": {},
   "outputs": [],
   "source": [
    "# EI Acquisition\n",
    "log_file = f\"log/4d_ei_{datetime.now().strftime('%Y_%m_%d-%H_%M_%S')}.json\"\n",
    "\n",
    "bo_ei = SimpleBO(\n",
    "    config_1_4d, active_params=[0, 1, 2, 3], acquisition=\"UCB\", proximal_len=0.1\n",
    ")\n",
    "# bo_ei.optimize(set_to_best=True, fname=log_file)"
   ]
  },
  {
   "cell_type": "markdown",
   "metadata": {},
   "source": [
    "## 1.2 BO with differnt Step Sizes\n",
    "\n",
    "Test BO with proximal length `[0.01,0.05,0.1,0.2]`"
   ]
  },
  {
   "cell_type": "code",
   "execution_count": null,
   "metadata": {},
   "outputs": [],
   "source": [
    "log_file = f\"log/4d_ucb_{datetime.now().strftime('%Y_%m_%d-%H_%M_%S')}.json\"\n",
    "\n",
    "bo = SimpleBO(\n",
    "    config_1_4d, active_params=[0, 1, 2, 3], acquisition=\"UCB\",\n",
    "    proximal_len=0.05\n",
    ")"
   ]
  },
  {
   "cell_type": "markdown",
   "metadata": {},
   "source": [
    "## 1.3 BO with auto fitting noise or use explicit noise"
   ]
  },
  {
   "cell_type": "code",
   "execution_count": null,
   "metadata": {},
   "outputs": [],
   "source": []
  },
  {
   "cell_type": "markdown",
   "metadata": {},
   "source": []
  }
 ],
 "metadata": {
  "kernelspec": {
   "display_name": "Python 3.9.13 ('rl39')",
   "language": "python",
   "name": "python3"
  },
  "language_info": {
   "name": "python",
   "version": "3.9.13"
  },
  "orig_nbformat": 4,
  "vscode": {
   "interpreter": {
    "hash": "58689cc92d6ce00a127786fca05cd73534b5d2fd577015d561e1a642ed089a17"
   }
  }
 },
 "nbformat": 4,
 "nbformat_minor": 2
}
