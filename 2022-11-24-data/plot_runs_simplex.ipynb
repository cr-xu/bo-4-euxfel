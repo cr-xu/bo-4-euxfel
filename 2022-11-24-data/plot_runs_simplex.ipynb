{
 "cells": [
  {
   "cell_type": "code",
   "execution_count": 10,
   "metadata": {},
   "outputs": [],
   "source": [
    "from collections import defaultdict\n",
    "import json\n",
    "import os\n",
    "from matplotlib import rcParams\n",
    "from matplotlib import pyplot as plt\n",
    "import matplotlib.backends.backend_pdf\n",
    "import numpy as np"
   ]
  },
  {
   "cell_type": "code",
   "execution_count": 11,
   "metadata": {},
   "outputs": [],
   "source": [
    "data_dir_bo = 'bo/'\n",
    "data_dir_simplex = 'simplex/'\n",
    "# data_dir = '/home/ws/zx5016/Dropbox/KIT/xfel/ocelot_data_2'\n",
    "plot_dir = './'\n"
   ]
  },
  {
   "cell_type": "code",
   "execution_count": 12,
   "metadata": {},
   "outputs": [],
   "source": [
    "def compare_ojectives(file_bo, file_simplex, key):\n",
    "    data_file_bo = open(os.path.join(data_dir_bo, file_bo))\n",
    "    data_bo = json.load(data_file_bo)\n",
    "    data_file_simplex = open(os.path.join(data_dir_simplex, file_simplex))\n",
    "    data_simplex = json.load(data_file_simplex)\n",
    "\n",
    "    fig, ax = plt.subplots(figsize=(10, 5))\n",
    "    plt.plot(data_bo['Y'], label='BO')\n",
    "    plt.plot(data_simplex['obj_values'], label='Simplex')\n",
    "    plt.ylabel(data_bo['metadata']['objective'])\n",
    "    plt.xlabel('Steps')\n",
    "    plt.grid()\n",
    "    plt.legend()\n",
    "    plt.title(key)\n",
    "\n",
    "    return fig\n"
   ]
  },
  {
   "cell_type": "code",
   "execution_count": 13,
   "metadata": {},
   "outputs": [],
   "source": [
    "file_dict = defaultdict()\n",
    "file_dict['air_coils_2'] = ['benchmark_ucb_2022_11_24-08_56_30.json', '2022-11-24 09-04-27.json']\n",
    "file_dict['air_coils_4'] = ['benchmark_ucb_2022_11_24-09_11_00.json', '2022-11-24 09-19-20.json']\n",
    "file_dict['air_coils_6'] = ['benchmark_ucb_2022_11_24-09_21_33.json', '2022-11-24 09-34-23.json']\n",
    "file_dict['air_coils_8'] = ['benchmark_ucb_2022_11_24-09_44_46.json', '2022-11-24 10-01-07.json']\n",
    "file_dict['air_coils_10'] = ['benchmark_ucb_2022_11_24-10_13_49.json', '2022-11-24 10-31-55.json']"
   ]
  },
  {
   "cell_type": "code",
   "execution_count": 14,
   "metadata": {},
   "outputs": [
    {
     "data": {
      "text/plain": [
       "<Figure size 1000x500 with 0 Axes>"
      ]
     },
     "metadata": {},
     "output_type": "display_data"
    },
    {
     "data": {
      "text/plain": [
       "<Figure size 1000x500 with 0 Axes>"
      ]
     },
     "metadata": {},
     "output_type": "display_data"
    },
    {
     "data": {
      "text/plain": [
       "<Figure size 1000x500 with 0 Axes>"
      ]
     },
     "metadata": {},
     "output_type": "display_data"
    },
    {
     "data": {
      "text/plain": [
       "<Figure size 1000x500 with 0 Axes>"
      ]
     },
     "metadata": {},
     "output_type": "display_data"
    },
    {
     "data": {
      "text/plain": [
       "<Figure size 1000x500 with 0 Axes>"
      ]
     },
     "metadata": {},
     "output_type": "display_data"
    }
   ],
   "source": [
    "pdf = matplotlib.backends.backend_pdf.PdfPages(os.path.join(plot_dir, '2022-11-24-xfel-comparison.pdf'))\n",
    "for k in file_dict.keys():\n",
    "    fig = compare_ojectives(file_dict[k][0], file_dict[k][1], k)\n",
    "    pdf.savefig(fig, bbox_inches='tight')\n",
    "    plt.clf()\n",
    "pdf.close()"
   ]
  },
  {
   "cell_type": "code",
   "execution_count": 32,
   "metadata": {},
   "outputs": [],
   "source": [
    "def get_plot(data_simplex, title):\n",
    "    fig, ax = plt.subplots(figsize=(15, 8))\n",
    "    dictkeys = data_simplex.keys()\n",
    "    actuator_names = [key for key in data_simplex.keys() if key.split(\"/\")[0] ==\"XFEL.FEL\"]\n",
    "    for a in actuator_names:\n",
    "        ax.plot(data_simplex[a], label=a)\n",
    "        \n",
    "    ax2 = ax.twinx() \n",
    "    ax2.plot(data_simplex['obj_values'], color='black', linewidth=3 )\n",
    "    ax2.set_ylabel(data_simplex[\"function\"].split()[-1])\n",
    "    # ax2.set_ylabel(data_dict['metadata']['objective'])\n",
    "\n",
    "    ax.set_xlabel('Steps')\n",
    "    ax.grid(True)\n",
    "    ax.legend(framealpha=1)\n",
    "    plt.title(title)\n",
    "\n",
    "    return fig\n"
   ]
  },
  {
   "cell_type": "code",
   "execution_count": 33,
   "metadata": {},
   "outputs": [
    {
     "data": {
      "text/plain": [
       "<Figure size 1500x800 with 0 Axes>"
      ]
     },
     "metadata": {},
     "output_type": "display_data"
    },
    {
     "data": {
      "text/plain": [
       "<Figure size 1500x800 with 0 Axes>"
      ]
     },
     "metadata": {},
     "output_type": "display_data"
    },
    {
     "data": {
      "text/plain": [
       "<Figure size 1500x800 with 0 Axes>"
      ]
     },
     "metadata": {},
     "output_type": "display_data"
    },
    {
     "data": {
      "text/plain": [
       "<Figure size 1500x800 with 0 Axes>"
      ]
     },
     "metadata": {},
     "output_type": "display_data"
    },
    {
     "data": {
      "text/plain": [
       "<Figure size 1500x800 with 0 Axes>"
      ]
     },
     "metadata": {},
     "output_type": "display_data"
    },
    {
     "data": {
      "text/plain": [
       "<Figure size 1500x800 with 0 Axes>"
      ]
     },
     "metadata": {},
     "output_type": "display_data"
    },
    {
     "data": {
      "text/plain": [
       "<Figure size 1500x800 with 0 Axes>"
      ]
     },
     "metadata": {},
     "output_type": "display_data"
    },
    {
     "data": {
      "text/plain": [
       "<Figure size 1500x800 with 0 Axes>"
      ]
     },
     "metadata": {},
     "output_type": "display_data"
    },
    {
     "data": {
      "text/plain": [
       "<Figure size 1500x800 with 0 Axes>"
      ]
     },
     "metadata": {},
     "output_type": "display_data"
    },
    {
     "data": {
      "text/plain": [
       "<Figure size 1500x800 with 0 Axes>"
      ]
     },
     "metadata": {},
     "output_type": "display_data"
    },
    {
     "data": {
      "text/plain": [
       "<Figure size 1500x800 with 0 Axes>"
      ]
     },
     "metadata": {},
     "output_type": "display_data"
    },
    {
     "data": {
      "text/plain": [
       "<Figure size 1500x800 with 0 Axes>"
      ]
     },
     "metadata": {},
     "output_type": "display_data"
    },
    {
     "data": {
      "text/plain": [
       "<Figure size 1500x800 with 0 Axes>"
      ]
     },
     "metadata": {},
     "output_type": "display_data"
    }
   ],
   "source": [
    "pdf = matplotlib.backends.backend_pdf.PdfPages(os.path.join(plot_dir, '2022-11-24-xfel-simplex.pdf'))\n",
    "for subdir, dirs, files in os.walk(data_dir_simplex):\n",
    "    for f in sorted(files):\n",
    "        if f.endswith('.json'):\n",
    "            data_file = open(os.path.join(data_dir_simplex, f))\n",
    "            data = json.load(data_file)\n",
    "            timestamp = f.strip('.json')\n",
    "            fig = get_plot(data, timestamp)\n",
    "            pdf.savefig(fig, bbox_inches='tight')\n",
    "            plt.clf()\n",
    "pdf.close()"
   ]
  },
  {
   "cell_type": "code",
   "execution_count": 17,
   "metadata": {},
   "outputs": [],
   "source": [
    "import glob\n",
    "f_list = glob.glob(\"simplex/*\")\n",
    "filename = f_list[0].split(\"/\")[1]"
   ]
  },
  {
   "cell_type": "code",
   "execution_count": 27,
   "metadata": {},
   "outputs": [],
   "source": [
    "with open(f_list[0], \"r\") as f:\n",
    "    data_simplex1 = json.load(f)"
   ]
  },
  {
   "cell_type": "code",
   "execution_count": 28,
   "metadata": {},
   "outputs": [
    {
     "data": {
      "text/plain": [
       "dict_keys(['XFEL.FEL/UNDULATOR.SASE1/CAX.CELL3.SA1/FIELD.OFFSET', 'XFEL.FEL/UNDULATOR.SASE1/CAY.CELL3.SA1/FIELD.OFFSET', 'XFEL.FEL/UNDULATOR.SASE1/CAY.CELL7.SA1/FIELD.OFFSET', 'XFEL.FEL/UNDULATOR.SASE1/CAX.CELL8.SA1/FIELD.OFFSET', 'XFEL.FEL/UNDULATOR.SASE1/CAX.CELL14.SA1/FIELD.OFFSET', 'XFEL.FEL/UNDULATOR.SASE1/CAY.CELL14.SA1/FIELD.OFFSET', 'method', 'dev_times', 'obj_times', 'maximization', 'nreadings', 'function', 'beam_energy', 'wavelength', 'obj_values', 'std', 'ref_sase', 'charge'])"
      ]
     },
     "execution_count": 28,
     "metadata": {},
     "output_type": "execute_result"
    }
   ],
   "source": [
    "data_simplex1.keys()"
   ]
  },
  {
   "cell_type": "code",
   "execution_count": 30,
   "metadata": {},
   "outputs": [
    {
     "data": {
      "text/plain": [
       "'XFEL.FEL/XGM/XGM.2643.T9/INTENSITY.SA1.RAW.TRAIN'"
      ]
     },
     "execution_count": 30,
     "metadata": {},
     "output_type": "execute_result"
    }
   ],
   "source": [
    "data_simplex1[\"function\"].split()[-1]"
   ]
  },
  {
   "cell_type": "code",
   "execution_count": 31,
   "metadata": {},
   "outputs": [
    {
     "data": {
      "text/plain": [
       "['XFEL.FEL/UNDULATOR.SASE1/CAX.CELL3.SA1/FIELD.OFFSET',\n",
       " 'XFEL.FEL/UNDULATOR.SASE1/CAY.CELL3.SA1/FIELD.OFFSET',\n",
       " 'XFEL.FEL/UNDULATOR.SASE1/CAY.CELL7.SA1/FIELD.OFFSET',\n",
       " 'XFEL.FEL/UNDULATOR.SASE1/CAX.CELL8.SA1/FIELD.OFFSET',\n",
       " 'XFEL.FEL/UNDULATOR.SASE1/CAX.CELL14.SA1/FIELD.OFFSET',\n",
       " 'XFEL.FEL/UNDULATOR.SASE1/CAY.CELL14.SA1/FIELD.OFFSET']"
      ]
     },
     "execution_count": 31,
     "metadata": {},
     "output_type": "execute_result"
    }
   ],
   "source": [
    "[key for key in data_simplex1.keys() if key.split(\"/\")[0] ==\"XFEL.FEL\"]"
   ]
  },
  {
   "cell_type": "code",
   "execution_count": null,
   "metadata": {},
   "outputs": [],
   "source": []
  }
 ],
 "metadata": {
  "kernelspec": {
   "display_name": "Python 3.9.13 ('analysis')",
   "language": "python",
   "name": "python3"
  },
  "language_info": {
   "codemirror_mode": {
    "name": "ipython",
    "version": 3
   },
   "file_extension": ".py",
   "mimetype": "text/x-python",
   "name": "python",
   "nbconvert_exporter": "python",
   "pygments_lexer": "ipython3",
   "version": "3.9.13"
  },
  "orig_nbformat": 4,
  "vscode": {
   "interpreter": {
    "hash": "2c2dd33e828e9ee0fd539b84cd61b81e76d396cec3578283508cba5524603800"
   }
  }
 },
 "nbformat": 4,
 "nbformat_minor": 2
}
