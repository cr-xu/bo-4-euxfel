{
 "cells": [
  {
   "cell_type": "code",
   "execution_count": 1,
   "metadata": {},
   "outputs": [],
   "source": [
    "import json\n",
    "import os\n",
    "from matplotlib import rcParams\n",
    "from matplotlib import pyplot as plt\n",
    "import matplotlib.backends.backend_pdf\n",
    "import numpy as np"
   ]
  },
  {
   "cell_type": "code",
   "execution_count": 2,
   "metadata": {},
   "outputs": [],
   "source": [
    "data_dir = 'bo/'\n",
    "# data_dir = '/home/ws/zx5016/Dropbox/KIT/xfel/ocelot_data_2'\n",
    "plot_dir = './'\n"
   ]
  },
  {
   "cell_type": "code",
   "execution_count": 3,
   "metadata": {},
   "outputs": [],
   "source": [
    "def get_plot(data_dict, title):\n",
    "    fig, ax = plt.subplots(figsize=(15, 8))\n",
    "\n",
    "    actuators = np.arange(np.shape(data_dict['X'])[1])\n",
    "    x = np.array(data_dict['X'])\n",
    "    for a in actuators:\n",
    "        ax.plot(x[:,a], label=data_dict['metadata']['input'][a])\n",
    "        \n",
    "    ax2 = ax.twinx() \n",
    "    ax2.plot(data_dict['Y'], color='black', linewidth=3 )\n",
    "    ax2.set_ylabel(data_dict['metadata']['objective'])\n",
    "\n",
    "    ax.set_xlabel('Steps')\n",
    "    ax.grid(True)\n",
    "    ax.legend(framealpha=1)\n",
    "    plt.title(title)\n",
    "\n",
    "    return fig\n"
   ]
  },
  {
   "cell_type": "code",
   "execution_count": 4,
   "metadata": {},
   "outputs": [
    {
     "ename": "FileNotFoundError",
     "evalue": "[Errno 2] No such file or directory: '/Users/ansantam/Dropbox/KIT/xfel/log/2d_stepsize_2022_11_24-08_17_01.json'",
     "output_type": "error",
     "traceback": [
      "\u001b[0;31m---------------------------------------------------------------------------\u001b[0m",
      "\u001b[0;31mFileNotFoundError\u001b[0m                         Traceback (most recent call last)",
      "\u001b[1;32m/Users/chenran/Workspace/Phd/Projects/bo-4-euxfel/plot_runs.ipynb Cell 4\u001b[0m in \u001b[0;36m3\n\u001b[1;32m      <a href='vscode-notebook-cell:/Users/chenran/Workspace/Phd/Projects/bo-4-euxfel/plot_runs.ipynb#W3sZmlsZQ%3D%3D?line=0'>1</a>\u001b[0m \u001b[39m# Plot single file\u001b[39;00m\n\u001b[1;32m      <a href='vscode-notebook-cell:/Users/chenran/Workspace/Phd/Projects/bo-4-euxfel/plot_runs.ipynb#W3sZmlsZQ%3D%3D?line=1'>2</a>\u001b[0m f \u001b[39m=\u001b[39m \u001b[39m'\u001b[39m\u001b[39m2d_stepsize_2022_11_24-08_17_01.json\u001b[39m\u001b[39m'\u001b[39m\n\u001b[0;32m----> <a href='vscode-notebook-cell:/Users/chenran/Workspace/Phd/Projects/bo-4-euxfel/plot_runs.ipynb#W3sZmlsZQ%3D%3D?line=2'>3</a>\u001b[0m data_file \u001b[39m=\u001b[39m \u001b[39mopen\u001b[39m(os\u001b[39m.\u001b[39mpath\u001b[39m.\u001b[39mjoin(data_dir, f))\n\u001b[1;32m      <a href='vscode-notebook-cell:/Users/chenran/Workspace/Phd/Projects/bo-4-euxfel/plot_runs.ipynb#W3sZmlsZQ%3D%3D?line=3'>4</a>\u001b[0m data \u001b[39m=\u001b[39m json\u001b[39m.\u001b[39mload(data_file)\n\u001b[1;32m      <a href='vscode-notebook-cell:/Users/chenran/Workspace/Phd/Projects/bo-4-euxfel/plot_runs.ipynb#W3sZmlsZQ%3D%3D?line=4'>5</a>\u001b[0m \u001b[39mprint\u001b[39m(data\u001b[39m.\u001b[39mkeys())\n",
      "\u001b[0;31mFileNotFoundError\u001b[0m: [Errno 2] No such file or directory: '/Users/ansantam/Dropbox/KIT/xfel/log/2d_stepsize_2022_11_24-08_17_01.json'"
     ]
    }
   ],
   "source": [
    "# Plot single file\n",
    "f = '2d_stepsize_2022_11_24-08_17_01.json'\n",
    "data_file = open(os.path.join(data_dir, f))\n",
    "data = json.load(data_file)\n",
    "print(data.keys())\n",
    "print(data['metadata'])\n",
    "\n",
    "# timestamp = '2022 ' + f.strip('.json').split('_2022_')[1]\n",
    "# if data['metadata']['step_limit_type'] == 'hard':\n",
    "#     title = timestamp + ' / ' + data['metadata']['acquisition'] + ' ' + str(data['metadata']['step_limit_type']) + ' {:.2E}'.format(data['metadata']['step_size'])\n",
    "# elif data['metadata']['step_limit_type'] == 'proximal':\n",
    "#     title = timestamp + ' / ' + data['metadata']['acquisition'] + ' ' + str(data['metadata']['step_limit_type']) + ' {:.2E}'.format(data['metadata']['proximal_len'][0])\n",
    "\n",
    "# get_plot(data, title)\n"
   ]
  },
  {
   "cell_type": "code",
   "execution_count": null,
   "metadata": {},
   "outputs": [
    {
     "data": {
      "text/plain": [
       "<Figure size 1500x800 with 0 Axes>"
      ]
     },
     "metadata": {},
     "output_type": "display_data"
    },
    {
     "data": {
      "text/plain": [
       "<Figure size 1500x800 with 0 Axes>"
      ]
     },
     "metadata": {},
     "output_type": "display_data"
    },
    {
     "data": {
      "text/plain": [
       "<Figure size 1500x800 with 0 Axes>"
      ]
     },
     "metadata": {},
     "output_type": "display_data"
    },
    {
     "data": {
      "text/plain": [
       "<Figure size 1500x800 with 0 Axes>"
      ]
     },
     "metadata": {},
     "output_type": "display_data"
    },
    {
     "data": {
      "text/plain": [
       "<Figure size 1500x800 with 0 Axes>"
      ]
     },
     "metadata": {},
     "output_type": "display_data"
    },
    {
     "data": {
      "text/plain": [
       "<Figure size 1500x800 with 0 Axes>"
      ]
     },
     "metadata": {},
     "output_type": "display_data"
    },
    {
     "data": {
      "text/plain": [
       "<Figure size 1500x800 with 0 Axes>"
      ]
     },
     "metadata": {},
     "output_type": "display_data"
    },
    {
     "data": {
      "text/plain": [
       "<Figure size 1500x800 with 0 Axes>"
      ]
     },
     "metadata": {},
     "output_type": "display_data"
    },
    {
     "data": {
      "text/plain": [
       "<Figure size 1500x800 with 0 Axes>"
      ]
     },
     "metadata": {},
     "output_type": "display_data"
    },
    {
     "data": {
      "text/plain": [
       "<Figure size 1500x800 with 0 Axes>"
      ]
     },
     "metadata": {},
     "output_type": "display_data"
    },
    {
     "data": {
      "text/plain": [
       "<Figure size 1500x800 with 0 Axes>"
      ]
     },
     "metadata": {},
     "output_type": "display_data"
    },
    {
     "data": {
      "text/plain": [
       "<Figure size 1500x800 with 0 Axes>"
      ]
     },
     "metadata": {},
     "output_type": "display_data"
    },
    {
     "data": {
      "text/plain": [
       "<Figure size 1500x800 with 0 Axes>"
      ]
     },
     "metadata": {},
     "output_type": "display_data"
    },
    {
     "data": {
      "text/plain": [
       "<Figure size 1500x800 with 0 Axes>"
      ]
     },
     "metadata": {},
     "output_type": "display_data"
    },
    {
     "data": {
      "text/plain": [
       "<Figure size 1500x800 with 0 Axes>"
      ]
     },
     "metadata": {},
     "output_type": "display_data"
    },
    {
     "data": {
      "text/plain": [
       "<Figure size 1500x800 with 0 Axes>"
      ]
     },
     "metadata": {},
     "output_type": "display_data"
    },
    {
     "data": {
      "text/plain": [
       "<Figure size 1500x800 with 0 Axes>"
      ]
     },
     "metadata": {},
     "output_type": "display_data"
    },
    {
     "data": {
      "text/plain": [
       "<Figure size 1500x800 with 0 Axes>"
      ]
     },
     "metadata": {},
     "output_type": "display_data"
    },
    {
     "data": {
      "text/plain": [
       "<Figure size 1500x800 with 0 Axes>"
      ]
     },
     "metadata": {},
     "output_type": "display_data"
    }
   ],
   "source": [
    "pdf = matplotlib.backends.backend_pdf.PdfPages(os.path.join(plot_dir, '2022-11-24-xfel-beamtime.pdf'))\n",
    "for subdir, dirs, files in os.walk(data_dir):\n",
    "    for f in sorted(files):\n",
    "        if f.endswith('.json'):\n",
    "            data_file = open(os.path.join(data_dir, f))\n",
    "            data = json.load(data_file)\n",
    "            timestamp = '2022 ' + f.strip('.json').split('_2022_')[1]\n",
    "            if data['metadata']['step_limit_type'] == 'hard':\n",
    "                title = timestamp + ' / ' + data['metadata']['acquisition'] + ' ' + str(data['metadata']['step_limit_type']) + ' {:.2E}'.format(data['metadata']['step_size'])\n",
    "            elif data['metadata']['step_limit_type'] == 'proximal':\n",
    "                title = timestamp + ' / ' + data['metadata']['acquisition'] + ' ' + str(data['metadata']['step_limit_type']) + ' {:.2E}'.format(data['metadata']['proximal_len'][0])\n",
    "            fig = get_plot(data, title)\n",
    "            pdf.savefig(fig, bbox_inches='tight')\n",
    "            plt.clf()\n",
    "pdf.close()\n"
   ]
  },
  {
   "cell_type": "code",
   "execution_count": null,
   "metadata": {},
   "outputs": [],
   "source": []
  }
 ],
 "metadata": {
  "kernelspec": {
   "display_name": "Python 3.9.13 ('analysis')",
   "language": "python",
   "name": "python3"
  },
  "language_info": {
   "codemirror_mode": {
    "name": "ipython",
    "version": 3
   },
   "file_extension": ".py",
   "mimetype": "text/x-python",
   "name": "python",
   "nbconvert_exporter": "python",
   "pygments_lexer": "ipython3",
   "version": "3.9.13"
  },
  "orig_nbformat": 4,
  "vscode": {
   "interpreter": {
    "hash": "2c2dd33e828e9ee0fd539b84cd61b81e76d396cec3578283508cba5524603800"
   }
  }
 },
 "nbformat": 4,
 "nbformat_minor": 2
}
